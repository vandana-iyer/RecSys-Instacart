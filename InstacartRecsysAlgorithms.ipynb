{
  "nbformat": 4,
  "nbformat_minor": 0,
  "metadata": {
    "colab": {
      "name": "InstacartRecsysAlgorithms.ipynb",
      "provenance": [],
      "machine_shape": "hm",
      "authorship_tag": "ABX9TyPpdiyal1WXmThsSPCkEyok",
      "include_colab_link": true
    },
    "kernelspec": {
      "name": "python3",
      "display_name": "Python 3"
    }
  },
  "cells": [
    {
      "cell_type": "markdown",
      "metadata": {
        "id": "view-in-github",
        "colab_type": "text"
      },
      "source": [
        "<a href=\"https://colab.research.google.com/github/vandana-iyer/RecSys-Instacart/blob/master/InstacartRecsysAlgorithms.ipynb\" target=\"_parent\"><img src=\"https://colab.research.google.com/assets/colab-badge.svg\" alt=\"Open In Colab\"/></a>"
      ]
    },
    {
      "cell_type": "code",
      "metadata": {
        "id": "j3iMxCePGS6N",
        "colab_type": "code",
        "colab": {
          "base_uri": "https://localhost:8080/",
          "height": 1000
        },
        "outputId": "09f17f70-ca64-429e-dc42-08dc068dd3d8"
      },
      "source": [
        "# Authenticate and download datasets from Kaggle\n",
        "\n",
        "!mkdir -p ~/.kaggle\n",
        "!wget -O ~/.kaggle/kaggle.json https://www.dropbox.com/s/b6g4cawc664i4u9/kaggle.json?dl=0\n",
        "!chmod 600 ~/.kaggle/kaggle.json\n",
        "!ls ~/.kaggle\n",
        "\n",
        "!pip install --upgrade kaggle\n",
        "\n",
        "!kaggle competitions download -c instacart-market-basket-analysis\n",
        "!unzip instacart-market-basket-analysis.zip && rm instacart-market-basket-analysis.zip\n",
        "\n",
        "# unzip all csv files\n",
        "!unzip \\*.csv.zip\n",
        "# remove unwanted files/directories\n",
        "!rm -rf __MACOSX\n",
        "# !rm *.zip"
      ],
      "execution_count": 2,
      "outputs": [
        {
          "output_type": "stream",
          "text": [
            "--2020-04-24 05:06:39--  https://www.dropbox.com/s/b6g4cawc664i4u9/kaggle.json?dl=0\n",
            "Resolving www.dropbox.com (www.dropbox.com)... 162.125.65.1, 2620:100:6021:1::a27d:4101\n",
            "Connecting to www.dropbox.com (www.dropbox.com)|162.125.65.1|:443... connected.\n",
            "HTTP request sent, awaiting response... 301 Moved Permanently\n",
            "Location: /s/raw/b6g4cawc664i4u9/kaggle.json [following]\n",
            "--2020-04-24 05:06:39--  https://www.dropbox.com/s/raw/b6g4cawc664i4u9/kaggle.json\n",
            "Reusing existing connection to www.dropbox.com:443.\n",
            "HTTP request sent, awaiting response... 302 Found\n",
            "Location: https://uc66f933936ba79ddc324c5b1143.dl.dropboxusercontent.com/cd/0/inline/A2YrFkzXg1E4cOmn31-y3sHCVf85LN48jz0RXKq8lZ6Q2hS9ywElNRWD0tzx-HqMs1uCqMqVX11QCXPalu5bThjOuCWVmAwH5rVwRUmUpquw87630zN8lOUehMoQqlyiV1Q/file# [following]\n",
            "--2020-04-24 05:06:40--  https://uc66f933936ba79ddc324c5b1143.dl.dropboxusercontent.com/cd/0/inline/A2YrFkzXg1E4cOmn31-y3sHCVf85LN48jz0RXKq8lZ6Q2hS9ywElNRWD0tzx-HqMs1uCqMqVX11QCXPalu5bThjOuCWVmAwH5rVwRUmUpquw87630zN8lOUehMoQqlyiV1Q/file\n",
            "Resolving uc66f933936ba79ddc324c5b1143.dl.dropboxusercontent.com (uc66f933936ba79ddc324c5b1143.dl.dropboxusercontent.com)... 162.125.65.6, 2620:100:6021:6::a27d:4106\n",
            "Connecting to uc66f933936ba79ddc324c5b1143.dl.dropboxusercontent.com (uc66f933936ba79ddc324c5b1143.dl.dropboxusercontent.com)|162.125.65.6|:443... connected.\n",
            "HTTP request sent, awaiting response... 200 OK\n",
            "Length: 62 [text/plain]\n",
            "Saving to: ‘/root/.kaggle/kaggle.json’\n",
            "\n",
            "/root/.kaggle/kaggl 100%[===================>]      62  --.-KB/s    in 0s      \n",
            "\n",
            "2020-04-24 05:06:40 (9.39 MB/s) - ‘/root/.kaggle/kaggle.json’ saved [62/62]\n",
            "\n",
            "kaggle.json\n",
            "Requirement already up-to-date: kaggle in /usr/local/lib/python3.6/dist-packages (1.5.6)\n",
            "Requirement already satisfied, skipping upgrade: certifi in /usr/local/lib/python3.6/dist-packages (from kaggle) (2020.4.5.1)\n",
            "Requirement already satisfied, skipping upgrade: requests in /usr/local/lib/python3.6/dist-packages (from kaggle) (2.21.0)\n",
            "Requirement already satisfied, skipping upgrade: python-slugify in /usr/local/lib/python3.6/dist-packages (from kaggle) (4.0.0)\n",
            "Requirement already satisfied, skipping upgrade: six>=1.10 in /usr/local/lib/python3.6/dist-packages (from kaggle) (1.12.0)\n",
            "Requirement already satisfied, skipping upgrade: urllib3<1.25,>=1.21.1 in /usr/local/lib/python3.6/dist-packages (from kaggle) (1.24.3)\n",
            "Requirement already satisfied, skipping upgrade: tqdm in /usr/local/lib/python3.6/dist-packages (from kaggle) (4.38.0)\n",
            "Requirement already satisfied, skipping upgrade: python-dateutil in /usr/local/lib/python3.6/dist-packages (from kaggle) (2.8.1)\n",
            "Requirement already satisfied, skipping upgrade: idna<2.9,>=2.5 in /usr/local/lib/python3.6/dist-packages (from requests->kaggle) (2.8)\n",
            "Requirement already satisfied, skipping upgrade: chardet<3.1.0,>=3.0.2 in /usr/local/lib/python3.6/dist-packages (from requests->kaggle) (3.0.4)\n",
            "Requirement already satisfied, skipping upgrade: text-unidecode>=1.3 in /usr/local/lib/python3.6/dist-packages (from python-slugify->kaggle) (1.3)\n",
            "Warning: Looks like you're using an outdated API Version, please consider updating (server 1.5.6 / client 1.5.4)\n",
            "aisles.csv.zip: Skipping, found more recently modified local copy (use --force to force download)\n",
            "order_products__prior.csv.zip: Skipping, found more recently modified local copy (use --force to force download)\n",
            "sample_submission.csv.zip: Skipping, found more recently modified local copy (use --force to force download)\n",
            "orders.csv.zip: Skipping, found more recently modified local copy (use --force to force download)\n",
            "departments.csv.zip: Skipping, found more recently modified local copy (use --force to force download)\n",
            "order_products__train.csv.zip: Skipping, found more recently modified local copy (use --force to force download)\n",
            "products.csv.zip: Skipping, found more recently modified local copy (use --force to force download)\n",
            "unzip:  cannot find or open instacart-market-basket-analysis.zip, instacart-market-basket-analysis.zip.zip or instacart-market-basket-analysis.zip.ZIP.\n",
            "Archive:  order_products__train.csv.zip\n",
            "replace order_products__train.csv? [y]es, [n]o, [A]ll, [N]one, [r]ename: N\n",
            "   creating: __MACOSX/\n",
            "  inflating: __MACOSX/._order_products__train.csv  \n",
            "\n",
            "Archive:  orders.csv.zip\n",
            "  inflating: __MACOSX/._orders.csv   \n",
            "\n",
            "Archive:  products.csv.zip\n",
            "  inflating: __MACOSX/._products.csv  \n",
            "\n",
            "Archive:  order_products__prior.csv.zip\n",
            "  inflating: __MACOSX/._order_products__prior.csv  \n",
            "\n",
            "Archive:  departments.csv.zip\n",
            "  inflating: __MACOSX/._departments.csv  \n",
            "\n",
            "Archive:  aisles.csv.zip\n",
            "  inflating: __MACOSX/._aisles.csv   \n",
            "\n",
            "Archive:  sample_submission.csv.zip\n",
            "\n",
            "7 archives were successfully processed.\n"
          ],
          "name": "stdout"
        }
      ]
    },
    {
      "cell_type": "code",
      "metadata": {
        "id": "rIovQk-zSkJA",
        "colab_type": "code",
        "colab": {
          "base_uri": "https://localhost:8080/",
          "height": 118
        },
        "outputId": "6d369f9d-159c-4289-99ba-0b9a6e8d0d3e"
      },
      "source": [
        "!pip install surprise"
      ],
      "execution_count": 3,
      "outputs": [
        {
          "output_type": "stream",
          "text": [
            "Requirement already satisfied: surprise in /usr/local/lib/python3.6/dist-packages (0.1)\n",
            "Requirement already satisfied: scikit-surprise in /usr/local/lib/python3.6/dist-packages (from surprise) (1.1.0)\n",
            "Requirement already satisfied: six>=1.10.0 in /usr/local/lib/python3.6/dist-packages (from scikit-surprise->surprise) (1.12.0)\n",
            "Requirement already satisfied: joblib>=0.11 in /usr/local/lib/python3.6/dist-packages (from scikit-surprise->surprise) (0.14.1)\n",
            "Requirement already satisfied: numpy>=1.11.2 in /usr/local/lib/python3.6/dist-packages (from scikit-surprise->surprise) (1.18.2)\n",
            "Requirement already satisfied: scipy>=1.0.0 in /usr/local/lib/python3.6/dist-packages (from scikit-surprise->surprise) (1.4.1)\n"
          ],
          "name": "stdout"
        }
      ]
    },
    {
      "cell_type": "code",
      "metadata": {
        "id": "ROLyp0ONLzFa",
        "colab_type": "code",
        "colab": {}
      },
      "source": [
        "import pandas as pd\n",
        "import numpy as np\n",
        "\n",
        "import matplotlib.pyplot as plt\n",
        "%matplotlib inline"
      ],
      "execution_count": 0,
      "outputs": []
    },
    {
      "cell_type": "code",
      "metadata": {
        "id": "I6r5nrVbLz2z",
        "colab_type": "code",
        "colab": {}
      },
      "source": [
        "aisles = pd.read_csv('aisles.csv')\n",
        "departments = pd.read_csv('departments.csv')\n",
        "orders = pd.read_csv('orders.csv')\n",
        "products = pd.read_csv('products.csv')\n",
        "order_products = pd.read_csv('order_products__train.csv')\n",
        "order_products_prior = pd.read_csv('order_products__prior.csv')"
      ],
      "execution_count": 0,
      "outputs": []
    },
    {
      "cell_type": "code",
      "metadata": {
        "id": "TKWrsqF8L34d",
        "colab_type": "code",
        "colab": {
          "base_uri": "https://localhost:8080/",
          "height": 195
        },
        "outputId": "3e33af45-3ddd-4294-b84c-d1ae8fdb5912"
      },
      "source": [
        "# Merge products, aisles and departments\n",
        "products_dept_aisles_df = products.merge(aisles, on='aisle_id').merge(departments, on='department_id')\n",
        "products_dept_aisles_df.head()"
      ],
      "execution_count": 6,
      "outputs": [
        {
          "output_type": "execute_result",
          "data": {
            "text/html": [
              "<div>\n",
              "<style scoped>\n",
              "    .dataframe tbody tr th:only-of-type {\n",
              "        vertical-align: middle;\n",
              "    }\n",
              "\n",
              "    .dataframe tbody tr th {\n",
              "        vertical-align: top;\n",
              "    }\n",
              "\n",
              "    .dataframe thead th {\n",
              "        text-align: right;\n",
              "    }\n",
              "</style>\n",
              "<table border=\"1\" class=\"dataframe\">\n",
              "  <thead>\n",
              "    <tr style=\"text-align: right;\">\n",
              "      <th></th>\n",
              "      <th>product_id</th>\n",
              "      <th>product_name</th>\n",
              "      <th>aisle_id</th>\n",
              "      <th>department_id</th>\n",
              "      <th>aisle</th>\n",
              "      <th>department</th>\n",
              "    </tr>\n",
              "  </thead>\n",
              "  <tbody>\n",
              "    <tr>\n",
              "      <th>0</th>\n",
              "      <td>1</td>\n",
              "      <td>Chocolate Sandwich Cookies</td>\n",
              "      <td>61</td>\n",
              "      <td>19</td>\n",
              "      <td>cookies cakes</td>\n",
              "      <td>snacks</td>\n",
              "    </tr>\n",
              "    <tr>\n",
              "      <th>1</th>\n",
              "      <td>78</td>\n",
              "      <td>Nutter Butter Cookie Bites Go-Pak</td>\n",
              "      <td>61</td>\n",
              "      <td>19</td>\n",
              "      <td>cookies cakes</td>\n",
              "      <td>snacks</td>\n",
              "    </tr>\n",
              "    <tr>\n",
              "      <th>2</th>\n",
              "      <td>102</td>\n",
              "      <td>Danish Butter Cookies</td>\n",
              "      <td>61</td>\n",
              "      <td>19</td>\n",
              "      <td>cookies cakes</td>\n",
              "      <td>snacks</td>\n",
              "    </tr>\n",
              "    <tr>\n",
              "      <th>3</th>\n",
              "      <td>172</td>\n",
              "      <td>Gluten Free All Natural Chocolate Chip Cookies</td>\n",
              "      <td>61</td>\n",
              "      <td>19</td>\n",
              "      <td>cookies cakes</td>\n",
              "      <td>snacks</td>\n",
              "    </tr>\n",
              "    <tr>\n",
              "      <th>4</th>\n",
              "      <td>285</td>\n",
              "      <td>Mini Nilla Wafers Munch Pack</td>\n",
              "      <td>61</td>\n",
              "      <td>19</td>\n",
              "      <td>cookies cakes</td>\n",
              "      <td>snacks</td>\n",
              "    </tr>\n",
              "  </tbody>\n",
              "</table>\n",
              "</div>"
            ],
            "text/plain": [
              "   product_id  ... department\n",
              "0           1  ...     snacks\n",
              "1          78  ...     snacks\n",
              "2         102  ...     snacks\n",
              "3         172  ...     snacks\n",
              "4         285  ...     snacks\n",
              "\n",
              "[5 rows x 6 columns]"
            ]
          },
          "metadata": {
            "tags": []
          },
          "execution_count": 6
        }
      ]
    },
    {
      "cell_type": "code",
      "metadata": {
        "id": "r4vJxEvkMCNA",
        "colab_type": "code",
        "colab": {
          "base_uri": "https://localhost:8080/",
          "height": 84
        },
        "outputId": "acaf908b-abf0-41af-9553-aa5c5b2b6613"
      },
      "source": [
        "# Merge order and product_orders\n",
        "\n",
        "print(order_products.shape)\n",
        "print(order_products_prior.shape)\n",
        "print(orders.shape)\n",
        "\n",
        "user_product_orders = order_products.append(order_products_prior).merge(orders, on='order_id')\n",
        "user_product_orders.shape"
      ],
      "execution_count": 7,
      "outputs": [
        {
          "output_type": "stream",
          "text": [
            "(1384617, 4)\n",
            "(32434489, 4)\n",
            "(3421083, 7)\n"
          ],
          "name": "stdout"
        },
        {
          "output_type": "execute_result",
          "data": {
            "text/plain": [
              "(33819106, 10)"
            ]
          },
          "metadata": {
            "tags": []
          },
          "execution_count": 7
        }
      ]
    },
    {
      "cell_type": "code",
      "metadata": {
        "id": "dZkZ8pOqMC2_",
        "colab_type": "code",
        "colab": {
          "base_uri": "https://localhost:8080/",
          "height": 34
        },
        "outputId": "9f98394f-9e80-4a4d-a2ab-f3270622d1e2"
      },
      "source": [
        "# Merge all tables. Create train dataset\n",
        "\n",
        "data = user_product_orders.merge(products_dept_aisles_df, on='product_id')\n",
        "data.shape"
      ],
      "execution_count": 8,
      "outputs": [
        {
          "output_type": "execute_result",
          "data": {
            "text/plain": [
              "(33819106, 15)"
            ]
          },
          "metadata": {
            "tags": []
          },
          "execution_count": 8
        }
      ]
    },
    {
      "cell_type": "code",
      "metadata": {
        "id": "oOKzSLkkY5b5",
        "colab_type": "code",
        "colab": {
          "base_uri": "https://localhost:8080/",
          "height": 151
        },
        "outputId": "3d3da002-9c08-4ef1-81f6-9a8523395c1a"
      },
      "source": [
        "%%time\n",
        "import numpy\n",
        "import numpy as np\n",
        "import pandas as pd\n",
        "import progressbar as pb\n",
        "\n",
        "def matrix_factorization(R, P, Q, K, steps=1000, alpha=0.0002, beta=0.02, tol=0.001):\n",
        "    Q = np.transpose(Q)\n",
        "    non_zero_indexes = np.nonzero(R)\n",
        "    for step in pb.progressbar(range(steps)):\n",
        "      for i, j in zip(non_zero_indexes[0], non_zero_indexes[1]):\n",
        "        eij = R[i][j] - numpy.dot(P[i,:],Q[:,j])\n",
        "        P[i, :] += alpha * (2 * eij * np.transpose(Q[:, j]) - beta * P[i, :])\n",
        "        Q[:, j] += alpha * (2 * eij * np.transpose(P[i, :]) - beta * Q[:, j])\n",
        "\n",
        "      e = 0\n",
        "      for i, j in zip(non_zero_indexes[0], non_zero_indexes[1]):\n",
        "        e += pow(R[i][j] - numpy.dot(P[i,:],Q[:,j]), 2)\n",
        "        e += (beta/2) * np.sum(pow(P[i,:],2) + pow(Q[:,j],2))\n",
        "\n",
        "      if e < 0.001:\n",
        "        break\n",
        "\n",
        "    return P, Q.T\n",
        "\n",
        "R = [\n",
        "     [5,3,0,1],\n",
        "     [4,0,0,1],\n",
        "     [1,1,0,5],\n",
        "     [1,0,0,4],\n",
        "     [0,1,5,4],\n",
        "    ]\n",
        "\n",
        "R = numpy.array(R)\n",
        "N = len(R)\n",
        "M = len(R[0])\n",
        "K = 2\n",
        "\n",
        "P = numpy.random.rand(N,K)\n",
        "Q = numpy.random.rand(M,K)\n",
        "\n",
        "nP, nQ = matrix_factorization(R, P, Q, K)\n",
        "nR = numpy.dot(nP, nQ.T)\n",
        "print(nR)"
      ],
      "execution_count": 9,
      "outputs": [
        {
          "output_type": "stream",
          "text": [
            "100% (1000 of 1000) |####################| Elapsed Time: 0:00:00 Time:  0:00:00\n"
          ],
          "name": "stderr"
        },
        {
          "output_type": "stream",
          "text": [
            "[[3.95952805 1.92838403 3.73287715 2.21125506]\n",
            " [2.45772123 1.1970826  2.76736337 2.15322238]\n",
            " [2.19880928 1.0712544  3.58128196 3.84276325]\n",
            " [2.04801863 0.99768735 2.93223127 2.87982017]\n",
            " [3.73729717 1.82044013 4.6593251  4.05640924]]\n",
            "CPU times: user 518 ms, sys: 14.7 ms, total: 533 ms\n",
            "Wall time: 535 ms\n"
          ],
          "name": "stdout"
        }
      ]
    },
    {
      "cell_type": "markdown",
      "metadata": {
        "id": "J8E7ihfbJLWj",
        "colab_type": "text"
      },
      "source": [
        "#### User Department embeddings"
      ]
    },
    {
      "cell_type": "code",
      "metadata": {
        "id": "gdNv9Z3Txrfb",
        "colab_type": "code",
        "colab": {
          "base_uri": "https://localhost:8080/",
          "height": 50
        },
        "outputId": "21db1484-9d01-41e1-ff3f-8ec3974e901f"
      },
      "source": [
        "%%time\n",
        "# Dept User embeddings\n",
        "\n",
        "data_user_department = data.groupby(['user_id', 'department_id']).agg({'product_id': 'count'}).rename(columns={'product_id': 'total_products'})\n",
        "\n",
        "# Alternatively, use pivot_table as shown below, but is slower by few milliseconds seconds as compared to above groupby + unstack()\n",
        "# data.pivot_table(values='product_id', index='user_id', columns='department_id', aggfunc='count')"
      ],
      "execution_count": 10,
      "outputs": [
        {
          "output_type": "stream",
          "text": [
            "CPU times: user 5.92 s, sys: 2.34 s, total: 8.26 s\n",
            "Wall time: 8.26 s\n"
          ],
          "name": "stdout"
        }
      ]
    },
    {
      "cell_type": "code",
      "metadata": {
        "id": "fO7BULAiQgoG",
        "colab_type": "code",
        "colab": {}
      },
      "source": [
        "np_array_data_user_department = data_user_department.unstack('department_id').values"
      ],
      "execution_count": 0,
      "outputs": []
    },
    {
      "cell_type": "code",
      "metadata": {
        "id": "LrEgLjJklEJl",
        "colab_type": "code",
        "colab": {}
      },
      "source": [
        "user_dept_surprise_data = data_user_department.reset_index()"
      ],
      "execution_count": 0,
      "outputs": []
    },
    {
      "cell_type": "code",
      "metadata": {
        "id": "4UPTFJDElZiT",
        "colab_type": "code",
        "colab": {
          "base_uri": "https://localhost:8080/",
          "height": 134
        },
        "outputId": "010944a2-1051-4182-b3e6-7705b06e5c6c"
      },
      "source": [
        "np_array_data_user_department"
      ],
      "execution_count": 12,
      "outputs": [
        {
          "output_type": "execute_result",
          "data": {
            "text/plain": [
              "array([[nan, nan, nan, ..., 25., nan, nan],\n",
              "       [28., nan,  2., ..., 47., 24., nan],\n",
              "       [ 6., nan, nan, ...,  9.,  2., nan],\n",
              "       ...,\n",
              "       [21., nan,  3., ..., 23.,  8., nan],\n",
              "       [26., nan, 62., ..., 59., 28.,  2.],\n",
              "       [ 3., nan, 10., ..., 12.,  6., nan]])"
            ]
          },
          "metadata": {
            "tags": []
          },
          "execution_count": 12
        }
      ]
    },
    {
      "cell_type": "code",
      "metadata": {
        "id": "INv49xEQQ9ml",
        "colab_type": "code",
        "colab": {
          "base_uri": "https://localhost:8080/",
          "height": 134
        },
        "outputId": "f78b7a2b-c441-40d5-ffcc-2de1770615bd"
      },
      "source": [
        "np_array_data_user_department = np.nan_to_num(np_array_data_user_department).astype(int)\n",
        "np_array_data_user_department"
      ],
      "execution_count": 13,
      "outputs": [
        {
          "output_type": "execute_result",
          "data": {
            "text/plain": [
              "array([[ 0,  0,  0, ..., 25,  0,  0],\n",
              "       [28,  0,  2, ..., 47, 24,  0],\n",
              "       [ 6,  0,  0, ...,  9,  2,  0],\n",
              "       ...,\n",
              "       [21,  0,  3, ..., 23,  8,  0],\n",
              "       [26,  0, 62, ..., 59, 28,  2],\n",
              "       [ 3,  0, 10, ..., 12,  6,  0]])"
            ]
          },
          "metadata": {
            "tags": []
          },
          "execution_count": 13
        }
      ]
    },
    {
      "cell_type": "code",
      "metadata": {
        "id": "8qzENfuyVSb4",
        "colab_type": "code",
        "colab": {}
      },
      "source": [
        "# R = np_array_data_user_department\n",
        "\n",
        "# N = len(R)\n",
        "# M = len(R[0])\n",
        "# K = 2\n",
        "\n",
        "# P = numpy.random.rand(N,K)\n",
        "# Q = numpy.random.rand(M,K)\n",
        "\n",
        "# nP, nQ = matrix_factorization(R, P, Q, K)\n",
        "# nR = numpy.dot(nP, nQ.T)\n",
        "\n",
        "# nR"
      ],
      "execution_count": 0,
      "outputs": []
    },
    {
      "cell_type": "markdown",
      "metadata": {
        "id": "z7ryrhjqZzXL",
        "colab_type": "text"
      },
      "source": [
        "User Aisle embeddings"
      ]
    },
    {
      "cell_type": "code",
      "metadata": {
        "id": "RT9wZbevc7pf",
        "colab_type": "code",
        "colab": {
          "base_uri": "https://localhost:8080/",
          "height": 50
        },
        "outputId": "7987f359-c78a-4b6e-c453-5091e5f467df"
      },
      "source": [
        "%%time\n",
        "\n",
        "# User Aisle embeddings\n",
        "\n",
        "user_aisle = data.groupby(['user_id', 'aisle_id']).agg({'product_id': 'count'}).rename(columns={'product_id': 'total_products'})\n",
        "np_array_user_aisle = user_aisle.unstack('aisle_id').values\n",
        "np_array_user_aisle = np.nan_to_num(np_array_user_aisle).astype(int)"
      ],
      "execution_count": 19,
      "outputs": [
        {
          "output_type": "stream",
          "text": [
            "CPU times: user 6.81 s, sys: 16.9 ms, total: 6.83 s\n",
            "Wall time: 6.83 s\n"
          ],
          "name": "stdout"
        }
      ]
    },
    {
      "cell_type": "code",
      "metadata": {
        "id": "26WA8KTXao9X",
        "colab_type": "code",
        "colab": {
          "base_uri": "https://localhost:8080/",
          "height": 118
        },
        "outputId": "e119f11b-5fac-4a2b-bbb6-8cec0fb717e1"
      },
      "source": [
        "user_id = user_aisle.index.get_level_values(level=0)\n",
        "aisle_id = "
      ],
      "execution_count": 33,
      "outputs": [
        {
          "output_type": "execute_result",
          "data": {
            "text/plain": [
              "Int64Index([     1,      1,      1,      1,      1,      1,      1,      1,\n",
              "                 1,      1,\n",
              "            ...\n",
              "            206209, 206209, 206209, 206209, 206209, 206209, 206209, 206209,\n",
              "            206209, 206209],\n",
              "           dtype='int64', name='user_id', length=5919840)"
            ]
          },
          "metadata": {
            "tags": []
          },
          "execution_count": 33
        }
      ]
    },
    {
      "cell_type": "code",
      "metadata": {
        "id": "HacqgqOId_cL",
        "colab_type": "code",
        "colab": {
          "base_uri": "https://localhost:8080/",
          "height": 50
        },
        "outputId": "d6e7a3f6-c259-4226-eed1-6ca9bceb13fa"
      },
      "source": [
        "%%time\n",
        "\n",
        "from surprise import SVD\n",
        "from surprise import Dataset\n",
        "from surprise import Reader\n",
        "from surprise import accuracy\n",
        "from surprise.model_selection import PredefinedKFold\n",
        "\n",
        "reader = Reader()\n",
        "\n",
        "test_data = data[:]\n",
        "test_data['product_id'] = np.log(test_data['product_id'] )\n",
        "\n",
        "surprise_data = Dataset.load_from_df(user_dept_surprise_data, reader)"
      ],
      "execution_count": 30,
      "outputs": [
        {
          "output_type": "stream",
          "text": [
            "CPU times: user 5.05 s, sys: 256 ms, total: 5.31 s\n",
            "Wall time: 5.31 s\n"
          ],
          "name": "stdout"
        }
      ]
    },
    {
      "cell_type": "code",
      "metadata": {
        "id": "yFNoHPwgkLRL",
        "colab_type": "code",
        "colab": {
          "base_uri": "https://localhost:8080/",
          "height": 336
        },
        "outputId": "60ff6fe4-36cf-46b5-c151-75a8d81dd5ce"
      },
      "source": [
        "%%time\n",
        "\n",
        "from surprise.model_selection import cross_validate\n",
        "\n",
        "algo = SVD()\n",
        "cross_validate(algo, surprise_data, measures=['RMSE', 'MAE'], cv=5, verbose=True)"
      ],
      "execution_count": 31,
      "outputs": [
        {
          "output_type": "stream",
          "text": [
            "Evaluating RMSE, MAE of algorithm SVD on 5 split(s).\n",
            "\n",
            "                  Fold 1  Fold 2  Fold 3  Fold 4  Fold 5  Mean    Std     \n",
            "RMSE (testset)    33.2584 33.3759 33.2552 33.0296 33.5212 33.2881 0.1618  \n",
            "MAE (testset)     12.3803 12.4570 12.4603 12.4093 12.4567 12.4327 0.0323  \n",
            "Fit time          110.10  119.60  111.11  119.54  112.33  114.54  4.17    \n",
            "Test time         5.33    5.96    5.29    5.30    6.00    5.57    0.33    \n"
          ],
          "name": "stdout"
        },
        {
          "output_type": "execute_result",
          "data": {
            "text/plain": [
              "{'fit_time': (110.10284519195557,\n",
              "  119.60441756248474,\n",
              "  111.1067008972168,\n",
              "  119.54339289665222,\n",
              "  112.33499431610107),\n",
              " 'test_mae': array([12.38032488, 12.45699218, 12.46028657, 12.40932992, 12.45667755]),\n",
              " 'test_rmse': array([33.25842301, 33.37589921, 33.25519773, 33.02955552, 33.52122754]),\n",
              " 'test_time': (5.330892324447632,\n",
              "  5.957203388214111,\n",
              "  5.285067558288574,\n",
              "  5.296467542648315,\n",
              "  5.999311685562134)}"
            ]
          },
          "metadata": {
            "tags": []
          },
          "execution_count": 31
        }
      ]
    },
    {
      "cell_type": "code",
      "metadata": {
        "id": "LWrTUguBx7JF",
        "colab_type": "code",
        "colab": {
          "base_uri": "https://localhost:8080/",
          "height": 50
        },
        "outputId": "36d2d540-f05c-461a-d18f-1c8acd660e4e"
      },
      "source": [
        "from surprise.model_selection import train_test_split\n",
        "\n",
        "trainset, testset = train_test_split(surprise_data, test_size=.25)\n",
        "\n",
        "algo = SVD()\n",
        "\n",
        "# Train the algorithm on the trainset, and predict ratings for the testset\n",
        "algo.fit(trainset)\n",
        "predictions = algo.test(testset)\n",
        "\n",
        "# Then compute RMSE\n",
        "accuracy.rmse(predictions)"
      ],
      "execution_count": 32,
      "outputs": [
        {
          "output_type": "stream",
          "text": [
            "RMSE: 33.3750\n"
          ],
          "name": "stdout"
        },
        {
          "output_type": "execute_result",
          "data": {
            "text/plain": [
              "33.37496155069972"
            ]
          },
          "metadata": {
            "tags": []
          },
          "execution_count": 32
        }
      ]
    },
    {
      "cell_type": "code",
      "metadata": {
        "id": "YJNrzqJzy-qT",
        "colab_type": "code",
        "colab": {}
      },
      "source": [
        "from surprise.model_selection import GridSearchCV\n",
        "\n",
        "param_grid = {'n_epochs': [5, 10], 'lr_all': [0.002, 0.005],\n",
        "              'reg_all': [0.4, 0.6]}\n",
        "gs = GridSearchCV(SVD, param_grid, measures=['rmse', 'mae'], cv=3)\n",
        "\n",
        "gs.fit(surprise_data)\n",
        "\n",
        "# best RMSE score\n",
        "print(gs.best_score['rmse'])\n",
        "\n",
        "# combination of parameters that gave the best RMSE score\n",
        "print(gs.best_params['rmse'])"
      ],
      "execution_count": 0,
      "outputs": []
    },
    {
      "cell_type": "code",
      "metadata": {
        "id": "oCIriq7odJ1-",
        "colab_type": "code",
        "colab": {}
      },
      "source": [
        "%%time\n",
        "\n",
        "# User product embeddings\n",
        "\n",
        "user_product = data.groupby(['user_id', 'product_id']).agg({'product_id': 'count'}).rename(columns={'product_id': 'total_products'})\n",
        "np_array_user_product = user_product.unstack('product_id').values\n",
        "np_array_user_product = np.nan_to_num(np_array_user_product).astype(int)"
      ],
      "execution_count": 0,
      "outputs": []
    },
    {
      "cell_type": "code",
      "metadata": {
        "id": "lslF7871eceV",
        "colab_type": "code",
        "colab": {}
      },
      "source": [
        "np_array_user_product"
      ],
      "execution_count": 0,
      "outputs": []
    },
    {
      "cell_type": "code",
      "metadata": {
        "id": "L1N1U1O1ed4F",
        "colab_type": "code",
        "colab": {}
      },
      "source": [
        ""
      ],
      "execution_count": 0,
      "outputs": []
    }
  ]
}