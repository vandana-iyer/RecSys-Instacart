{
  "nbformat": 4,
  "nbformat_minor": 0,
  "metadata": {
    "colab": {
      "name": "InstacartRecsysAlgorithmsSVD.ipynb",
      "provenance": [],
      "machine_shape": "hm",
      "authorship_tag": "ABX9TyMfWg3kMVTR3DNJyjFuipED",
      "include_colab_link": true
    },
    "kernelspec": {
      "name": "python3",
      "display_name": "Python 3"
    }
  },
  "cells": [
    {
      "cell_type": "markdown",
      "metadata": {
        "id": "view-in-github",
        "colab_type": "text"
      },
      "source": [
        "<a href=\"https://colab.research.google.com/github/vandana-iyer/RecSys-Instacart/blob/master/InstacartRecsysAlgorithmsSVD.ipynb\" target=\"_parent\"><img src=\"https://colab.research.google.com/assets/colab-badge.svg\" alt=\"Open In Colab\"/></a>"
      ]
    },
    {
      "cell_type": "code",
      "metadata": {
        "id": "j3iMxCePGS6N",
        "colab_type": "code",
        "outputId": "ed8670de-8bd5-4b94-a5a0-bca21355ad5c",
        "colab": {
          "base_uri": "https://localhost:8080/",
          "height": 1000
        }
      },
      "source": [
        "# Authenticate and download datasets from Kaggle\n",
        "\n",
        "!mkdir -p ~/.kaggle\n",
        "!wget -O ~/.kaggle/kaggle.json https://www.dropbox.com/s/b6g4cawc664i4u9/kaggle.json?dl=0\n",
        "!chmod 600 ~/.kaggle/kaggle.json\n",
        "!ls ~/.kaggle\n",
        "\n",
        "!pip install --upgrade kaggle\n",
        "\n",
        "!kaggle competitions download -c instacart-market-basket-analysis\n",
        "!unzip instacart-market-basket-analysis.zip && rm instacart-market-basket-analysis.zip\n",
        "\n",
        "# unzip all csv files\n",
        "!unzip \\*.csv.zip\n",
        "# remove unwanted files/directories\n",
        "!rm -rf __MACOSX\n",
        "# !rm *.zip"
      ],
      "execution_count": 2,
      "outputs": [
        {
          "output_type": "stream",
          "text": [
            "--2020-05-09 16:54:31--  https://www.dropbox.com/s/b6g4cawc664i4u9/kaggle.json?dl=0\n",
            "Resolving www.dropbox.com (www.dropbox.com)... 162.125.9.1, 2620:100:601f:1::a27d:901\n",
            "Connecting to www.dropbox.com (www.dropbox.com)|162.125.9.1|:443... connected.\n",
            "HTTP request sent, awaiting response... 301 Moved Permanently\n",
            "Location: /s/raw/b6g4cawc664i4u9/kaggle.json [following]\n",
            "--2020-05-09 16:54:31--  https://www.dropbox.com/s/raw/b6g4cawc664i4u9/kaggle.json\n",
            "Reusing existing connection to www.dropbox.com:443.\n",
            "HTTP request sent, awaiting response... 302 Found\n",
            "Location: https://uce7de8aed8f3ad359842589a2c0.dl.dropboxusercontent.com/cd/0/inline/A3YHy3aJ3ySg1pwHdiKqjkCnFM8M203X-XB7Q8290DSbZTP_UtZdpj-gnbLRWsz6QNVWHLBKjfek7C6_SuD20csATKlZ5gWlocwlLKIEiM6aC1mm80zCWSRGEDQY4zpcZqM/file# [following]\n",
            "--2020-05-09 16:54:32--  https://uce7de8aed8f3ad359842589a2c0.dl.dropboxusercontent.com/cd/0/inline/A3YHy3aJ3ySg1pwHdiKqjkCnFM8M203X-XB7Q8290DSbZTP_UtZdpj-gnbLRWsz6QNVWHLBKjfek7C6_SuD20csATKlZ5gWlocwlLKIEiM6aC1mm80zCWSRGEDQY4zpcZqM/file\n",
            "Resolving uce7de8aed8f3ad359842589a2c0.dl.dropboxusercontent.com (uce7de8aed8f3ad359842589a2c0.dl.dropboxusercontent.com)... 162.125.9.6, 2620:100:601b:6::a27d:806\n",
            "Connecting to uce7de8aed8f3ad359842589a2c0.dl.dropboxusercontent.com (uce7de8aed8f3ad359842589a2c0.dl.dropboxusercontent.com)|162.125.9.6|:443... connected.\n",
            "HTTP request sent, awaiting response... 200 OK\n",
            "Length: 62 [text/plain]\n",
            "Saving to: ‘/root/.kaggle/kaggle.json’\n",
            "\n",
            "/root/.kaggle/kaggl 100%[===================>]      62  --.-KB/s    in 0s      \n",
            "\n",
            "2020-05-09 16:54:32 (10.6 MB/s) - ‘/root/.kaggle/kaggle.json’ saved [62/62]\n",
            "\n",
            "kaggle.json\n",
            "Requirement already up-to-date: kaggle in /usr/local/lib/python3.6/dist-packages (1.5.6)\n",
            "Requirement already satisfied, skipping upgrade: urllib3<1.25,>=1.21.1 in /usr/local/lib/python3.6/dist-packages (from kaggle) (1.24.3)\n",
            "Requirement already satisfied, skipping upgrade: certifi in /usr/local/lib/python3.6/dist-packages (from kaggle) (2020.4.5.1)\n",
            "Requirement already satisfied, skipping upgrade: python-slugify in /usr/local/lib/python3.6/dist-packages (from kaggle) (4.0.0)\n",
            "Requirement already satisfied, skipping upgrade: tqdm in /usr/local/lib/python3.6/dist-packages (from kaggle) (4.41.1)\n",
            "Requirement already satisfied, skipping upgrade: requests in /usr/local/lib/python3.6/dist-packages (from kaggle) (2.23.0)\n",
            "Requirement already satisfied, skipping upgrade: python-dateutil in /usr/local/lib/python3.6/dist-packages (from kaggle) (2.8.1)\n",
            "Requirement already satisfied, skipping upgrade: six>=1.10 in /usr/local/lib/python3.6/dist-packages (from kaggle) (1.12.0)\n",
            "Requirement already satisfied, skipping upgrade: text-unidecode>=1.3 in /usr/local/lib/python3.6/dist-packages (from python-slugify->kaggle) (1.3)\n",
            "Requirement already satisfied, skipping upgrade: chardet<4,>=3.0.2 in /usr/local/lib/python3.6/dist-packages (from requests->kaggle) (3.0.4)\n",
            "Requirement already satisfied, skipping upgrade: idna<3,>=2.5 in /usr/local/lib/python3.6/dist-packages (from requests->kaggle) (2.9)\n",
            "Warning: Looks like you're using an outdated API Version, please consider updating (server 1.5.6 / client 1.5.4)\n",
            "Downloading products.csv.zip to /content\n",
            "  0% 0.00/795k [00:00<?, ?B/s]\n",
            "100% 795k/795k [00:00<00:00, 54.6MB/s]\n",
            "Downloading departments.csv.zip to /content\n",
            "  0% 0.00/804 [00:00<?, ?B/s]\n",
            "100% 804/804 [00:00<00:00, 819kB/s]\n",
            "Downloading sample_submission.csv.zip to /content\n",
            "  0% 0.00/220k [00:00<?, ?B/s]\n",
            "100% 220k/220k [00:00<00:00, 68.9MB/s]\n",
            "Downloading aisles.csv.zip to /content\n",
            "  0% 0.00/1.87k [00:00<?, ?B/s]\n",
            "100% 1.87k/1.87k [00:00<00:00, 1.99MB/s]\n",
            "Downloading order_products__prior.csv.zip to /content\n",
            " 87% 137M/157M [00:01<00:00, 85.5MB/s]\n",
            "100% 157M/157M [00:01<00:00, 112MB/s] \n",
            "Downloading orders.csv.zip to /content\n",
            " 54% 17.0M/31.3M [00:00<00:00, 48.6MB/s]\n",
            "100% 31.3M/31.3M [00:00<00:00, 90.0MB/s]\n",
            "Downloading order_products__train.csv.zip to /content\n",
            " 72% 5.00M/6.90M [00:00<00:00, 29.3MB/s]\n",
            "100% 6.90M/6.90M [00:00<00:00, 33.8MB/s]\n",
            "unzip:  cannot find or open instacart-market-basket-analysis.zip, instacart-market-basket-analysis.zip.zip or instacart-market-basket-analysis.zip.ZIP.\n",
            "Archive:  order_products__prior.csv.zip\n",
            "  inflating: order_products__prior.csv  \n",
            "   creating: __MACOSX/\n",
            "  inflating: __MACOSX/._order_products__prior.csv  \n",
            "\n",
            "Archive:  orders.csv.zip\n",
            "  inflating: orders.csv              \n",
            "  inflating: __MACOSX/._orders.csv   \n",
            "\n",
            "Archive:  products.csv.zip\n",
            "  inflating: products.csv            \n",
            "  inflating: __MACOSX/._products.csv  \n",
            "\n",
            "Archive:  sample_submission.csv.zip\n",
            "  inflating: sample_submission.csv   \n",
            "\n",
            "Archive:  aisles.csv.zip\n",
            "  inflating: aisles.csv              \n",
            "  inflating: __MACOSX/._aisles.csv   \n",
            "\n",
            "Archive:  departments.csv.zip\n",
            "  inflating: departments.csv         \n",
            "  inflating: __MACOSX/._departments.csv  \n",
            "\n",
            "Archive:  order_products__train.csv.zip\n",
            "  inflating: order_products__train.csv  \n",
            "  inflating: __MACOSX/._order_products__train.csv  \n",
            "\n",
            "7 archives were successfully processed.\n"
          ],
          "name": "stdout"
        }
      ]
    },
    {
      "cell_type": "code",
      "metadata": {
        "id": "rIovQk-zSkJA",
        "colab_type": "code",
        "outputId": "4ee5f809-edbf-4af3-c11a-98ab1fa92d10",
        "colab": {
          "base_uri": "https://localhost:8080/",
          "height": 286
        }
      },
      "source": [
        "!pip install surprise"
      ],
      "execution_count": 3,
      "outputs": [
        {
          "output_type": "stream",
          "text": [
            "Collecting surprise\n",
            "  Downloading https://files.pythonhosted.org/packages/61/de/e5cba8682201fcf9c3719a6fdda95693468ed061945493dea2dd37c5618b/surprise-0.1-py2.py3-none-any.whl\n",
            "Collecting scikit-surprise\n",
            "\u001b[?25l  Downloading https://files.pythonhosted.org/packages/f5/da/b5700d96495fb4f092be497f02492768a3d96a3f4fa2ae7dea46d4081cfa/scikit-surprise-1.1.0.tar.gz (6.4MB)\n",
            "\u001b[K     |████████████████████████████████| 6.5MB 2.4MB/s \n",
            "\u001b[?25hRequirement already satisfied: joblib>=0.11 in /usr/local/lib/python3.6/dist-packages (from scikit-surprise->surprise) (0.14.1)\n",
            "Requirement already satisfied: numpy>=1.11.2 in /usr/local/lib/python3.6/dist-packages (from scikit-surprise->surprise) (1.18.4)\n",
            "Requirement already satisfied: scipy>=1.0.0 in /usr/local/lib/python3.6/dist-packages (from scikit-surprise->surprise) (1.4.1)\n",
            "Requirement already satisfied: six>=1.10.0 in /usr/local/lib/python3.6/dist-packages (from scikit-surprise->surprise) (1.12.0)\n",
            "Building wheels for collected packages: scikit-surprise\n",
            "  Building wheel for scikit-surprise (setup.py) ... \u001b[?25l\u001b[?25hdone\n",
            "  Created wheel for scikit-surprise: filename=scikit_surprise-1.1.0-cp36-cp36m-linux_x86_64.whl size=1673651 sha256=1df2191bfe70889527a982e0a4b5143c6ff0bd0bab09c0cf647a2fca4c2c0bea\n",
            "  Stored in directory: /root/.cache/pip/wheels/cc/fa/8c/16c93fccce688ae1bde7d979ff102f7bee980d9cfeb8641bcf\n",
            "Successfully built scikit-surprise\n",
            "Installing collected packages: scikit-surprise, surprise\n",
            "Successfully installed scikit-surprise-1.1.0 surprise-0.1\n"
          ],
          "name": "stdout"
        }
      ]
    },
    {
      "cell_type": "code",
      "metadata": {
        "id": "ROLyp0ONLzFa",
        "colab_type": "code",
        "colab": {}
      },
      "source": [
        "import pandas as pd\n",
        "import numpy as np\n",
        "\n",
        "import matplotlib.pyplot as plt\n",
        "%matplotlib inline"
      ],
      "execution_count": 0,
      "outputs": []
    },
    {
      "cell_type": "code",
      "metadata": {
        "id": "I6r5nrVbLz2z",
        "colab_type": "code",
        "colab": {}
      },
      "source": [
        "aisles = pd.read_csv('aisles.csv')\n",
        "departments = pd.read_csv('departments.csv')\n",
        "orders = pd.read_csv('orders.csv')\n",
        "products = pd.read_csv('products.csv')\n",
        "order_products = pd.read_csv('order_products__train.csv')\n",
        "order_products_prior = pd.read_csv('order_products__prior.csv')"
      ],
      "execution_count": 0,
      "outputs": []
    },
    {
      "cell_type": "code",
      "metadata": {
        "id": "TKWrsqF8L34d",
        "colab_type": "code",
        "outputId": "8899f235-8255-436a-ec27-7e6b477727c6",
        "colab": {
          "base_uri": "https://localhost:8080/",
          "height": 195
        }
      },
      "source": [
        "# Merge products, aisles and departments\n",
        "products_dept_aisles_df = products.merge(aisles, on='aisle_id').merge(departments, on='department_id')\n",
        "products_dept_aisles_df.head()"
      ],
      "execution_count": 6,
      "outputs": [
        {
          "output_type": "execute_result",
          "data": {
            "text/html": [
              "<div>\n",
              "<style scoped>\n",
              "    .dataframe tbody tr th:only-of-type {\n",
              "        vertical-align: middle;\n",
              "    }\n",
              "\n",
              "    .dataframe tbody tr th {\n",
              "        vertical-align: top;\n",
              "    }\n",
              "\n",
              "    .dataframe thead th {\n",
              "        text-align: right;\n",
              "    }\n",
              "</style>\n",
              "<table border=\"1\" class=\"dataframe\">\n",
              "  <thead>\n",
              "    <tr style=\"text-align: right;\">\n",
              "      <th></th>\n",
              "      <th>product_id</th>\n",
              "      <th>product_name</th>\n",
              "      <th>aisle_id</th>\n",
              "      <th>department_id</th>\n",
              "      <th>aisle</th>\n",
              "      <th>department</th>\n",
              "    </tr>\n",
              "  </thead>\n",
              "  <tbody>\n",
              "    <tr>\n",
              "      <th>0</th>\n",
              "      <td>1</td>\n",
              "      <td>Chocolate Sandwich Cookies</td>\n",
              "      <td>61</td>\n",
              "      <td>19</td>\n",
              "      <td>cookies cakes</td>\n",
              "      <td>snacks</td>\n",
              "    </tr>\n",
              "    <tr>\n",
              "      <th>1</th>\n",
              "      <td>78</td>\n",
              "      <td>Nutter Butter Cookie Bites Go-Pak</td>\n",
              "      <td>61</td>\n",
              "      <td>19</td>\n",
              "      <td>cookies cakes</td>\n",
              "      <td>snacks</td>\n",
              "    </tr>\n",
              "    <tr>\n",
              "      <th>2</th>\n",
              "      <td>102</td>\n",
              "      <td>Danish Butter Cookies</td>\n",
              "      <td>61</td>\n",
              "      <td>19</td>\n",
              "      <td>cookies cakes</td>\n",
              "      <td>snacks</td>\n",
              "    </tr>\n",
              "    <tr>\n",
              "      <th>3</th>\n",
              "      <td>172</td>\n",
              "      <td>Gluten Free All Natural Chocolate Chip Cookies</td>\n",
              "      <td>61</td>\n",
              "      <td>19</td>\n",
              "      <td>cookies cakes</td>\n",
              "      <td>snacks</td>\n",
              "    </tr>\n",
              "    <tr>\n",
              "      <th>4</th>\n",
              "      <td>285</td>\n",
              "      <td>Mini Nilla Wafers Munch Pack</td>\n",
              "      <td>61</td>\n",
              "      <td>19</td>\n",
              "      <td>cookies cakes</td>\n",
              "      <td>snacks</td>\n",
              "    </tr>\n",
              "  </tbody>\n",
              "</table>\n",
              "</div>"
            ],
            "text/plain": [
              "   product_id  ... department\n",
              "0           1  ...     snacks\n",
              "1          78  ...     snacks\n",
              "2         102  ...     snacks\n",
              "3         172  ...     snacks\n",
              "4         285  ...     snacks\n",
              "\n",
              "[5 rows x 6 columns]"
            ]
          },
          "metadata": {
            "tags": []
          },
          "execution_count": 6
        }
      ]
    },
    {
      "cell_type": "code",
      "metadata": {
        "id": "r4vJxEvkMCNA",
        "colab_type": "code",
        "outputId": "17598a3b-6ad6-4301-88da-23e48c3cda50",
        "colab": {
          "base_uri": "https://localhost:8080/",
          "height": 84
        }
      },
      "source": [
        "# Merge order and product_orders\n",
        "\n",
        "print(order_products.shape)\n",
        "print(order_products_prior.shape)\n",
        "print(orders.shape)\n",
        "\n",
        "user_product_orders = order_products.append(order_products_prior).merge(orders, on='order_id')\n",
        "user_product_orders.shape"
      ],
      "execution_count": 7,
      "outputs": [
        {
          "output_type": "stream",
          "text": [
            "(1384617, 4)\n",
            "(32434489, 4)\n",
            "(3421083, 7)\n"
          ],
          "name": "stdout"
        },
        {
          "output_type": "execute_result",
          "data": {
            "text/plain": [
              "(33819106, 10)"
            ]
          },
          "metadata": {
            "tags": []
          },
          "execution_count": 7
        }
      ]
    },
    {
      "cell_type": "code",
      "metadata": {
        "id": "dZkZ8pOqMC2_",
        "colab_type": "code",
        "outputId": "41c424b1-086f-4475-bf73-07b5fbf58c46",
        "colab": {
          "base_uri": "https://localhost:8080/",
          "height": 34
        }
      },
      "source": [
        "# Merge all tables into a single dataset\n",
        "\n",
        "data = user_product_orders.merge(products_dept_aisles_df, on='product_id')\n",
        "data.shape"
      ],
      "execution_count": 8,
      "outputs": [
        {
          "output_type": "execute_result",
          "data": {
            "text/plain": [
              "(33819106, 15)"
            ]
          },
          "metadata": {
            "tags": []
          },
          "execution_count": 8
        }
      ]
    },
    {
      "cell_type": "markdown",
      "metadata": {
        "id": "J8E7ihfbJLWj",
        "colab_type": "text"
      },
      "source": [
        "#### User Department embeddings"
      ]
    },
    {
      "cell_type": "code",
      "metadata": {
        "id": "gdNv9Z3Txrfb",
        "colab_type": "code",
        "outputId": "fb7c3259-9a22-47d4-b36c-6d21deb022f6",
        "colab": {
          "base_uri": "https://localhost:8080/",
          "height": 50
        }
      },
      "source": [
        "%%time\n",
        "# Dept User embeddings - total products \n",
        "\n",
        "user_department = data.groupby(['user_id', 'department_id']).agg({'product_id': 'count'}).rename(columns={'product_id': 'total_products'})\n",
        "\n",
        "# Alternatively, use pivot_table as shown below, but is slower by few milliseconds seconds as compared to above groupby + unstack()\n",
        "# data.pivot_table(values='product_id', index='user_id', columns='department_id', aggfunc='count')"
      ],
      "execution_count": 9,
      "outputs": [
        {
          "output_type": "stream",
          "text": [
            "CPU times: user 5.5 s, sys: 2.31 s, total: 7.81 s\n",
            "Wall time: 7.81 s\n"
          ],
          "name": "stdout"
        }
      ]
    },
    {
      "cell_type": "code",
      "metadata": {
        "id": "fO7BULAiQgoG",
        "colab_type": "code",
        "colab": {}
      },
      "source": [
        "# np_array_user_department = data_user_department.unstack('department_id').values\n",
        "# np_array_user_department = np.nan_to_num(np_array_user_department).astype(int)\n",
        "# np_array_user_department"
      ],
      "execution_count": 0,
      "outputs": []
    },
    {
      "cell_type": "code",
      "metadata": {
        "id": "LrEgLjJklEJl",
        "colab_type": "code",
        "colab": {}
      },
      "source": [
        "user_department = user_department.reset_index()"
      ],
      "execution_count": 0,
      "outputs": []
    },
    {
      "cell_type": "code",
      "metadata": {
        "id": "ErBsRx8c10xb",
        "colab_type": "code",
        "outputId": "6d87b97b-e043-4cc4-e99a-52f2ba2681cd",
        "colab": {
          "base_uri": "https://localhost:8080/",
          "height": 50
        }
      },
      "source": [
        "%%time\n",
        "\n",
        "from surprise import SVD\n",
        "from surprise import Dataset\n",
        "from surprise import Reader\n",
        "from surprise import accuracy\n",
        "from surprise.model_selection import PredefinedKFold\n",
        "\n",
        "reader = Reader()"
      ],
      "execution_count": 12,
      "outputs": [
        {
          "output_type": "stream",
          "text": [
            "CPU times: user 82.8 ms, sys: 10.3 ms, total: 93.1 ms\n",
            "Wall time: 92.6 ms\n"
          ],
          "name": "stdout"
        }
      ]
    },
    {
      "cell_type": "code",
      "metadata": {
        "id": "5JO1EfsK1309",
        "colab_type": "code",
        "colab": {}
      },
      "source": [
        "user_department_surprise_data = Dataset.load_from_df(user_department, reader)"
      ],
      "execution_count": 0,
      "outputs": []
    },
    {
      "cell_type": "code",
      "metadata": {
        "id": "cgYWsA3r141c",
        "colab_type": "code",
        "outputId": "b5940be7-39c5-41f4-ee23-ce1cc1ff71e5",
        "colab": {
          "base_uri": "https://localhost:8080/",
          "height": 50
        }
      },
      "source": [
        "%%time\n",
        "\n",
        "from surprise.model_selection import cross_validate\n",
        "\n",
        "# algo = SVDpp()\n",
        "# cross_validate(algo, user_department_surprise_data, measures=['RMSE', 'MAE'], cv=5, verbose=True)"
      ],
      "execution_count": 14,
      "outputs": [
        {
          "output_type": "stream",
          "text": [
            "CPU times: user 11 µs, sys: 0 ns, total: 11 µs\n",
            "Wall time: 14.1 µs\n"
          ],
          "name": "stdout"
        }
      ]
    },
    {
      "cell_type": "code",
      "metadata": {
        "id": "3s0zcby141sg",
        "colab_type": "code",
        "colab": {}
      },
      "source": [
        "# Let us see why there is a difference of almost 30+ product purchases for each department\n",
        "# Users that have not bought more than 2 products from a particular department and\n",
        "# users that have purchased more than 500 products accounts to about \n",
        "# 18% of the user_dept dataset.\n",
        "# let us filter them out\n",
        "\n",
        "user_department_filtered = user_department[(user_department['total_products'] >= 2) & (user_department['total_products'] < 200)] # RMSE worsens with these conditions.\n",
        "user_counts = user_department_filtered['user_id'].value_counts()\n",
        "user_counts_greater_than_two = user_counts[user_counts > 2].index.tolist()\n",
        "user_department_filtered = user_department_filtered[user_department_filtered['user_id'].isin(user_counts_greater_than_two)]\n",
        "\n",
        "# Let us design a test/train split such that user_ids and department_ids are proportionally distributed. \n",
        "\n",
        "# print(user_department['total_products'].min())\n",
        "# print(user_department['total_products'].max())\n",
        "\n",
        "# Check for outliers in max purchased and filter them\n",
        "\n",
        "user_department_surprise_data = Dataset.load_from_df(user_department_filtered, reader)"
      ],
      "execution_count": 0,
      "outputs": []
    },
    {
      "cell_type": "code",
      "metadata": {
        "id": "3i3uj6R93QDy",
        "colab_type": "code",
        "colab": {}
      },
      "source": [
        "from sklearn.model_selection import train_test_split \n",
        "\n",
        "trainset_sklearn, testset_sklearn = train_test_split(user_department_filtered, test_size=0.25, stratify=user_department_filtered['user_id']) \n",
        "\n",
        "trainset_sklearn.to_csv('trainset.csv', index=False, header=None, sep='\\t')\n",
        "testset_sklearn.to_csv('testset.csv', index=False, header=None, sep='\\t')\n",
        "\n",
        "folds_files = [('trainset.csv', 'testset.csv')]\n",
        "\n",
        "train_test_data = Dataset.load_from_folds(folds_files, reader=reader)\n",
        "pkf = PredefinedKFold()\n",
        "algo = SVD()"
      ],
      "execution_count": 0,
      "outputs": []
    },
    {
      "cell_type": "code",
      "metadata": {
        "id": "UZKrwo3CmToX",
        "colab_type": "code",
        "colab": {}
      },
      "source": [
        "for trainset, testset in pkf.split(train_test_data):\n",
        "\n",
        "    # train and test algorithm.\n",
        "    algo.fit(trainset)\n",
        "    predictions = algo.test(testset)\n",
        "\n",
        "    # Compute and print Root Mean Squared Error\n",
        "    print(accuracy.rmse(predictions, verbose=True))"
      ],
      "execution_count": 0,
      "outputs": []
    },
    {
      "cell_type": "code",
      "metadata": {
        "id": "IkEuBN5_0FyL",
        "colab_type": "code",
        "colab": {
          "base_uri": "https://localhost:8080/",
          "height": 168
        },
        "outputId": "7557a552-33af-428e-8611-8a471828c68b"
      },
      "source": [
        "for trainset, testset in pkf.split(train_test_data):\n",
        "  algo = SVD()\n",
        "  cross_validate(algo, Dataset.load_from_df(trainset_sklearn, reader), measures=['RMSE', 'MAE'], cv=5, verbose=True)\n",
        "\n",
        "  predictions = algo.test(testset)\n",
        "  print(accuracy.rmse(predictions, verbose=True))"
      ],
      "execution_count": 42,
      "outputs": [
        {
          "output_type": "stream",
          "text": [
            "Evaluating RMSE, MAE of algorithm SVD on 5 split(s).\n",
            "\n",
            "                  Fold 1  Fold 2  Fold 3  Fold 4  Fold 5  Mean    Std     \n",
            "RMSE (testset)    26.0176 26.0350 26.2214 26.1157 26.0305 26.0840 0.0769  \n",
            "MAE (testset)     12.2901 12.3251 12.3440 12.3177 12.2967 12.3147 0.0195  \n",
            "Fit time          72.73   73.34   73.36   73.78   74.60   73.56   0.62    \n",
            "Test time         2.75    2.74    3.50    2.80    2.78    2.91    0.30    \n",
            "RMSE: 26.4501\n",
            "26.450116268709447\n"
          ],
          "name": "stdout"
        }
      ]
    },
    {
      "cell_type": "code",
      "metadata": {
        "id": "_vvIMpFij70y",
        "colab_type": "code",
        "colab": {}
      },
      "source": [
        "# Weird observations: time taken is more with lesser/filtered data. \n",
        "# I don't think measuring user_dept ratings is a good one, because suddenly we see a surge of products bought.\n",
        "# About 1% of users purchased more than 150 products at a time from a particular dept.\n",
        "# is that an outlier?\n",
        "\n",
        "# Take log for faster computation\n",
        "# SEPARATE DATA INTO WEEKLY PURCHASES\n",
        "\n",
        "# But hold on - this way of using data does not support the business goal.\n",
        "\n",
        "\n",
        "# See if you can do a weighted average by considering \"is_reordered\" column\n",
        "pd.set_option('display.max_rows', 50000)"
      ],
      "execution_count": 0,
      "outputs": []
    },
    {
      "cell_type": "code",
      "metadata": {
        "id": "UFPL903eZOeJ",
        "colab_type": "code",
        "colab": {
          "base_uri": "https://localhost:8080/",
          "height": 34
        },
        "outputId": "e4ead889-6dd2-4087-b988-3c6384247dc0"
      },
      "source": [
        "len(user_department_filtered[user_department_filtered['total_products'] > 200])\n",
        "# user_department_filtered[user_department_filtered['user_id'] == 5]"
      ],
      "execution_count": 38,
      "outputs": [
        {
          "output_type": "execute_result",
          "data": {
            "text/plain": [
              "12657"
            ]
          },
          "metadata": {
            "tags": []
          },
          "execution_count": 38
        }
      ]
    },
    {
      "cell_type": "code",
      "metadata": {
        "id": "eGsT5OvWeZ-1",
        "colab_type": "code",
        "colab": {
          "base_uri": "https://localhost:8080/",
          "height": 34
        },
        "outputId": "34e0c53a-b8be-4f7d-aef4-5484d712dafa"
      },
      "source": [
        "len(user_department_filtered)"
      ],
      "execution_count": 36,
      "outputs": [
        {
          "output_type": "execute_result",
          "data": {
            "text/plain": [
              "2275883"
            ]
          },
          "metadata": {
            "tags": []
          },
          "execution_count": 36
        }
      ]
    },
    {
      "cell_type": "code",
      "metadata": {
        "id": "Natw5rdq_9XW",
        "colab_type": "code",
        "colab": {
          "base_uri": "https://localhost:8080/",
          "height": 370
        },
        "outputId": "b01fb806-ac90-4b8c-af37-94ea6ce6c30a"
      },
      "source": [
        "algo = SVD()\n",
        "\n",
        "# Train the algorithm on the trainset, and predict ratings for the testset\n",
        "train_result = algo.fit(trainset)\n",
        "predictions = algo.test(testset.build_testset())\n",
        "\n",
        "# Then compute RMSE\n",
        "accuracy.rmse(predictions)"
      ],
      "execution_count": 127,
      "outputs": [
        {
          "output_type": "error",
          "ename": "KeyboardInterrupt",
          "evalue": "ignored",
          "traceback": [
            "\u001b[0;31m---------------------------------------------------------------------------\u001b[0m",
            "\u001b[0;31mKeyboardInterrupt\u001b[0m                         Traceback (most recent call last)",
            "\u001b[0;32m<ipython-input-127-bc24109aba49>\u001b[0m in \u001b[0;36m<module>\u001b[0;34m()\u001b[0m\n\u001b[1;32m      2\u001b[0m \u001b[0;34m\u001b[0m\u001b[0m\n\u001b[1;32m      3\u001b[0m \u001b[0;31m# Train the algorithm on the trainset, and predict ratings for the testset\u001b[0m\u001b[0;34m\u001b[0m\u001b[0;34m\u001b[0m\u001b[0;34m\u001b[0m\u001b[0m\n\u001b[0;32m----> 4\u001b[0;31m \u001b[0mtrain_result\u001b[0m \u001b[0;34m=\u001b[0m \u001b[0malgo\u001b[0m\u001b[0;34m.\u001b[0m\u001b[0mfit\u001b[0m\u001b[0;34m(\u001b[0m\u001b[0mtrainset\u001b[0m\u001b[0;34m)\u001b[0m\u001b[0;34m\u001b[0m\u001b[0;34m\u001b[0m\u001b[0m\n\u001b[0m\u001b[1;32m      5\u001b[0m \u001b[0mpredictions\u001b[0m \u001b[0;34m=\u001b[0m \u001b[0malgo\u001b[0m\u001b[0;34m.\u001b[0m\u001b[0mtest\u001b[0m\u001b[0;34m(\u001b[0m\u001b[0mtestset\u001b[0m\u001b[0;34m.\u001b[0m\u001b[0mbuild_testset\u001b[0m\u001b[0;34m(\u001b[0m\u001b[0;34m)\u001b[0m\u001b[0;34m)\u001b[0m\u001b[0;34m\u001b[0m\u001b[0;34m\u001b[0m\u001b[0m\n\u001b[1;32m      6\u001b[0m \u001b[0;34m\u001b[0m\u001b[0m\n",
            "\u001b[0;32m/usr/local/lib/python3.6/dist-packages/surprise/prediction_algorithms/matrix_factorization.pyx\u001b[0m in \u001b[0;36msurprise.prediction_algorithms.matrix_factorization.SVD.fit\u001b[0;34m()\u001b[0m\n",
            "\u001b[0;32m/usr/local/lib/python3.6/dist-packages/surprise/prediction_algorithms/matrix_factorization.pyx\u001b[0m in \u001b[0;36msurprise.prediction_algorithms.matrix_factorization.SVD.sgd\u001b[0;34m()\u001b[0m\n",
            "\u001b[0;32m/usr/local/lib/python3.6/dist-packages/surprise/trainset.py\u001b[0m in \u001b[0;36mall_ratings\u001b[0;34m(self)\u001b[0m\n\u001b[1;32m    187\u001b[0m         \u001b[0;32mfor\u001b[0m \u001b[0mu\u001b[0m\u001b[0;34m,\u001b[0m \u001b[0mu_ratings\u001b[0m \u001b[0;32min\u001b[0m \u001b[0miteritems\u001b[0m\u001b[0;34m(\u001b[0m\u001b[0mself\u001b[0m\u001b[0;34m.\u001b[0m\u001b[0mur\u001b[0m\u001b[0;34m)\u001b[0m\u001b[0;34m:\u001b[0m\u001b[0;34m\u001b[0m\u001b[0;34m\u001b[0m\u001b[0m\n\u001b[1;32m    188\u001b[0m             \u001b[0;32mfor\u001b[0m \u001b[0mi\u001b[0m\u001b[0;34m,\u001b[0m \u001b[0mr\u001b[0m \u001b[0;32min\u001b[0m \u001b[0mu_ratings\u001b[0m\u001b[0;34m:\u001b[0m\u001b[0;34m\u001b[0m\u001b[0;34m\u001b[0m\u001b[0m\n\u001b[0;32m--> 189\u001b[0;31m                 \u001b[0;32myield\u001b[0m \u001b[0mu\u001b[0m\u001b[0;34m,\u001b[0m \u001b[0mi\u001b[0m\u001b[0;34m,\u001b[0m \u001b[0mr\u001b[0m\u001b[0;34m\u001b[0m\u001b[0;34m\u001b[0m\u001b[0m\n\u001b[0m\u001b[1;32m    190\u001b[0m \u001b[0;34m\u001b[0m\u001b[0m\n\u001b[1;32m    191\u001b[0m     \u001b[0;32mdef\u001b[0m \u001b[0mbuild_testset\u001b[0m\u001b[0;34m(\u001b[0m\u001b[0mself\u001b[0m\u001b[0;34m)\u001b[0m\u001b[0;34m:\u001b[0m\u001b[0;34m\u001b[0m\u001b[0;34m\u001b[0m\u001b[0m\n",
            "\u001b[0;31mKeyboardInterrupt\u001b[0m: "
          ]
        }
      ]
    },
    {
      "cell_type": "code",
      "metadata": {
        "id": "xV_03VIUYdRT",
        "colab_type": "code",
        "colab": {
          "base_uri": "https://localhost:8080/",
          "height": 669
        },
        "outputId": "007fd167-4b40-4c53-c95b-229a19e5e552"
      },
      "source": [
        "departments"
      ],
      "execution_count": 22,
      "outputs": [
        {
          "output_type": "execute_result",
          "data": {
            "text/html": [
              "<div>\n",
              "<style scoped>\n",
              "    .dataframe tbody tr th:only-of-type {\n",
              "        vertical-align: middle;\n",
              "    }\n",
              "\n",
              "    .dataframe tbody tr th {\n",
              "        vertical-align: top;\n",
              "    }\n",
              "\n",
              "    .dataframe thead th {\n",
              "        text-align: right;\n",
              "    }\n",
              "</style>\n",
              "<table border=\"1\" class=\"dataframe\">\n",
              "  <thead>\n",
              "    <tr style=\"text-align: right;\">\n",
              "      <th></th>\n",
              "      <th>department_id</th>\n",
              "      <th>department</th>\n",
              "    </tr>\n",
              "  </thead>\n",
              "  <tbody>\n",
              "    <tr>\n",
              "      <th>0</th>\n",
              "      <td>1</td>\n",
              "      <td>frozen</td>\n",
              "    </tr>\n",
              "    <tr>\n",
              "      <th>1</th>\n",
              "      <td>2</td>\n",
              "      <td>other</td>\n",
              "    </tr>\n",
              "    <tr>\n",
              "      <th>2</th>\n",
              "      <td>3</td>\n",
              "      <td>bakery</td>\n",
              "    </tr>\n",
              "    <tr>\n",
              "      <th>3</th>\n",
              "      <td>4</td>\n",
              "      <td>produce</td>\n",
              "    </tr>\n",
              "    <tr>\n",
              "      <th>4</th>\n",
              "      <td>5</td>\n",
              "      <td>alcohol</td>\n",
              "    </tr>\n",
              "    <tr>\n",
              "      <th>5</th>\n",
              "      <td>6</td>\n",
              "      <td>international</td>\n",
              "    </tr>\n",
              "    <tr>\n",
              "      <th>6</th>\n",
              "      <td>7</td>\n",
              "      <td>beverages</td>\n",
              "    </tr>\n",
              "    <tr>\n",
              "      <th>7</th>\n",
              "      <td>8</td>\n",
              "      <td>pets</td>\n",
              "    </tr>\n",
              "    <tr>\n",
              "      <th>8</th>\n",
              "      <td>9</td>\n",
              "      <td>dry goods pasta</td>\n",
              "    </tr>\n",
              "    <tr>\n",
              "      <th>9</th>\n",
              "      <td>10</td>\n",
              "      <td>bulk</td>\n",
              "    </tr>\n",
              "    <tr>\n",
              "      <th>10</th>\n",
              "      <td>11</td>\n",
              "      <td>personal care</td>\n",
              "    </tr>\n",
              "    <tr>\n",
              "      <th>11</th>\n",
              "      <td>12</td>\n",
              "      <td>meat seafood</td>\n",
              "    </tr>\n",
              "    <tr>\n",
              "      <th>12</th>\n",
              "      <td>13</td>\n",
              "      <td>pantry</td>\n",
              "    </tr>\n",
              "    <tr>\n",
              "      <th>13</th>\n",
              "      <td>14</td>\n",
              "      <td>breakfast</td>\n",
              "    </tr>\n",
              "    <tr>\n",
              "      <th>14</th>\n",
              "      <td>15</td>\n",
              "      <td>canned goods</td>\n",
              "    </tr>\n",
              "    <tr>\n",
              "      <th>15</th>\n",
              "      <td>16</td>\n",
              "      <td>dairy eggs</td>\n",
              "    </tr>\n",
              "    <tr>\n",
              "      <th>16</th>\n",
              "      <td>17</td>\n",
              "      <td>household</td>\n",
              "    </tr>\n",
              "    <tr>\n",
              "      <th>17</th>\n",
              "      <td>18</td>\n",
              "      <td>babies</td>\n",
              "    </tr>\n",
              "    <tr>\n",
              "      <th>18</th>\n",
              "      <td>19</td>\n",
              "      <td>snacks</td>\n",
              "    </tr>\n",
              "    <tr>\n",
              "      <th>19</th>\n",
              "      <td>20</td>\n",
              "      <td>deli</td>\n",
              "    </tr>\n",
              "    <tr>\n",
              "      <th>20</th>\n",
              "      <td>21</td>\n",
              "      <td>missing</td>\n",
              "    </tr>\n",
              "  </tbody>\n",
              "</table>\n",
              "</div>"
            ],
            "text/plain": [
              "    department_id       department\n",
              "0               1           frozen\n",
              "1               2            other\n",
              "2               3           bakery\n",
              "3               4          produce\n",
              "4               5          alcohol\n",
              "5               6    international\n",
              "6               7        beverages\n",
              "7               8             pets\n",
              "8               9  dry goods pasta\n",
              "9              10             bulk\n",
              "10             11    personal care\n",
              "11             12     meat seafood\n",
              "12             13           pantry\n",
              "13             14        breakfast\n",
              "14             15     canned goods\n",
              "15             16       dairy eggs\n",
              "16             17        household\n",
              "17             18           babies\n",
              "18             19           snacks\n",
              "19             20             deli\n",
              "20             21          missing"
            ]
          },
          "metadata": {
            "tags": []
          },
          "execution_count": 22
        }
      ]
    },
    {
      "cell_type": "code",
      "metadata": {
        "id": "JvQchkfWa318",
        "colab_type": "code",
        "colab": {
          "base_uri": "https://localhost:8080/",
          "height": 229
        },
        "outputId": "6fd5d6f0-c522-470c-e518-84dadfdc6c24"
      },
      "source": [
        "print(user_department['total_products'].min())\n",
        "print(user_department['total_products'].max())\n",
        "\n",
        "user_department_filtered.head()"
      ],
      "execution_count": 73,
      "outputs": [
        {
          "output_type": "stream",
          "text": [
            "1\n",
            "1577\n"
          ],
          "name": "stdout"
        },
        {
          "output_type": "execute_result",
          "data": {
            "text/html": [
              "<div>\n",
              "<style scoped>\n",
              "    .dataframe tbody tr th:only-of-type {\n",
              "        vertical-align: middle;\n",
              "    }\n",
              "\n",
              "    .dataframe tbody tr th {\n",
              "        vertical-align: top;\n",
              "    }\n",
              "\n",
              "    .dataframe thead th {\n",
              "        text-align: right;\n",
              "    }\n",
              "</style>\n",
              "<table border=\"1\" class=\"dataframe\">\n",
              "  <thead>\n",
              "    <tr style=\"text-align: right;\">\n",
              "      <th></th>\n",
              "      <th>user_id</th>\n",
              "      <th>department_id</th>\n",
              "      <th>total_products</th>\n",
              "    </tr>\n",
              "  </thead>\n",
              "  <tbody>\n",
              "    <tr>\n",
              "      <th>0</th>\n",
              "      <td>1</td>\n",
              "      <td>4</td>\n",
              "      <td>5</td>\n",
              "    </tr>\n",
              "    <tr>\n",
              "      <th>1</th>\n",
              "      <td>1</td>\n",
              "      <td>7</td>\n",
              "      <td>15</td>\n",
              "    </tr>\n",
              "    <tr>\n",
              "      <th>2</th>\n",
              "      <td>1</td>\n",
              "      <td>13</td>\n",
              "      <td>1</td>\n",
              "    </tr>\n",
              "    <tr>\n",
              "      <th>3</th>\n",
              "      <td>1</td>\n",
              "      <td>14</td>\n",
              "      <td>4</td>\n",
              "    </tr>\n",
              "    <tr>\n",
              "      <th>4</th>\n",
              "      <td>1</td>\n",
              "      <td>16</td>\n",
              "      <td>17</td>\n",
              "    </tr>\n",
              "  </tbody>\n",
              "</table>\n",
              "</div>"
            ],
            "text/plain": [
              "   user_id  department_id  total_products\n",
              "0        1              4               5\n",
              "1        1              7              15\n",
              "2        1             13               1\n",
              "3        1             14               4\n",
              "4        1             16              17"
            ]
          },
          "metadata": {
            "tags": []
          },
          "execution_count": 73
        }
      ]
    },
    {
      "cell_type": "code",
      "metadata": {
        "id": "xzNAkbVij8gj",
        "colab_type": "code",
        "colab": {}
      },
      "source": [
        "trainset_sklearn, testset_sklearn = train_test_split(user_department_filtered, test_size=0.25, stratify=user_department_filtered['user_id']) "
      ],
      "execution_count": 0,
      "outputs": []
    },
    {
      "cell_type": "code",
      "metadata": {
        "id": "4wJ60ZZCcPiq",
        "colab_type": "code",
        "colab": {
          "base_uri": "https://localhost:8080/",
          "height": 106
        },
        "outputId": "d53c611a-e7e9-4945-d9ba-9ccc7526a51a"
      },
      "source": [
        "trainset_sklearn['user_id'].value_counts()"
      ],
      "execution_count": 52,
      "outputs": [
        {
          "output_type": "execute_result",
          "data": {
            "text/html": [
              "<div>\n",
              "<style scoped>\n",
              "    .dataframe tbody tr th:only-of-type {\n",
              "        vertical-align: middle;\n",
              "    }\n",
              "\n",
              "    .dataframe tbody tr th {\n",
              "        vertical-align: top;\n",
              "    }\n",
              "\n",
              "    .dataframe thead th {\n",
              "        text-align: right;\n",
              "    }\n",
              "</style>\n",
              "<table border=\"1\" class=\"dataframe\">\n",
              "  <thead>\n",
              "    <tr style=\"text-align: right;\">\n",
              "      <th></th>\n",
              "      <th>user_id</th>\n",
              "      <th>department_id</th>\n",
              "      <th>total_products</th>\n",
              "    </tr>\n",
              "  </thead>\n",
              "  <tbody>\n",
              "    <tr>\n",
              "      <th>769057</th>\n",
              "      <td>69470</td>\n",
              "      <td>20</td>\n",
              "      <td>2</td>\n",
              "    </tr>\n",
              "    <tr>\n",
              "      <th>769050</th>\n",
              "      <td>69470</td>\n",
              "      <td>4</td>\n",
              "      <td>4</td>\n",
              "    </tr>\n",
              "  </tbody>\n",
              "</table>\n",
              "</div>"
            ],
            "text/plain": [
              "        user_id  department_id  total_products\n",
              "769057    69470             20               2\n",
              "769050    69470              4               4"
            ]
          },
          "metadata": {
            "tags": []
          },
          "execution_count": 52
        }
      ]
    },
    {
      "cell_type": "code",
      "metadata": {
        "id": "WITliW2_fAtp",
        "colab_type": "code",
        "colab": {
          "base_uri": "https://localhost:8080/",
          "height": 218
        },
        "outputId": "0325c331-3089-467f-e1cf-f0721da8d74f"
      },
      "source": [
        "testset_sklearn['user_id'].value_counts()"
      ],
      "execution_count": 44,
      "outputs": [
        {
          "output_type": "execute_result",
          "data": {
            "text/plain": [
              "182194    5\n",
              "115912    5\n",
              "39779     5\n",
              "113552    5\n",
              "100574    5\n",
              "         ..\n",
              "199124    1\n",
              "120936    1\n",
              "118889    1\n",
              "22974     1\n",
              "69470     1\n",
              "Name: user_id, Length: 175026, dtype: int64"
            ]
          },
          "metadata": {
            "tags": []
          },
          "execution_count": 44
        }
      ]
    },
    {
      "cell_type": "code",
      "metadata": {
        "id": "XbDnwT0e4tJv",
        "colab_type": "code",
        "outputId": "3ff2ef7f-a6b3-48d8-97b6-f3a5293b2bd5",
        "colab": {
          "base_uri": "https://localhost:8080/",
          "height": 50
        }
      },
      "source": [
        "from surprise.model_selection import GridSearchCV\n",
        "\n",
        "param_grid = {'n_epochs': [5, 10], 'lr_all': [0.002, 0.005],\n",
        "              'reg_all': [0.4, 0.6]}\n",
        "gs = GridSearchCV(SVD, param_grid, measures=['rmse', 'mae'], cv=3)\n",
        "\n",
        "gs.fit(user_department_surprise_data)\n",
        "\n",
        "print(gs.best_score)\n",
        "# best RMSE score\n",
        "print(gs.best_score['rmse'])\n",
        "\n",
        "# combination of parameters that gave the best RMSE score\n",
        "print(gs.best_params['rmse'])"
      ],
      "execution_count": 19,
      "outputs": [
        {
          "output_type": "stream",
          "text": [
            "14.077267613423425\n",
            "{'n_epochs': 5, 'lr_all': 0.002, 'reg_all': 0.4}\n"
          ],
          "name": "stdout"
        }
      ]
    },
    {
      "cell_type": "markdown",
      "metadata": {
        "id": "z7ryrhjqZzXL",
        "colab_type": "text"
      },
      "source": [
        "User Aisle embeddings"
      ]
    },
    {
      "cell_type": "code",
      "metadata": {
        "id": "RT9wZbevc7pf",
        "colab_type": "code",
        "outputId": "a00a8358-dde2-476d-e153-bd3112c2cdd0",
        "colab": {
          "base_uri": "https://localhost:8080/",
          "height": 50
        }
      },
      "source": [
        "%%time\n",
        "\n",
        "# User Aisle embeddings\n",
        "\n",
        "user_aisle = data.groupby(['user_id', 'aisle_id']).agg({'product_id': 'count'}).rename(columns={'product_id': 'total_products'})"
      ],
      "execution_count": 20,
      "outputs": [
        {
          "output_type": "stream",
          "text": [
            "CPU times: user 7.12 s, sys: 20 ms, total: 7.14 s\n",
            "Wall time: 7.15 s\n"
          ],
          "name": "stdout"
        }
      ]
    },
    {
      "cell_type": "code",
      "metadata": {
        "id": "DA3V7cmx8vAp",
        "colab_type": "code",
        "colab": {
          "base_uri": "https://localhost:8080/",
          "height": 134
        },
        "outputId": "76cbf080-2b71-4095-9325-4b5a8797115d"
      },
      "source": [
        "np_array_user_aisle = user_aisle.unstack('aisle_id').values\n",
        "np_array_user_aisle = np.nan_to_num(np_array_user_aisle).astype(int) # Replace NaNs with 0\n",
        "np_array_user_aisle\n",
        "# user_id = user_aisle.index.get_level_values(level=0)"
      ],
      "execution_count": 23,
      "outputs": [
        {
          "output_type": "execute_result",
          "data": {
            "text/plain": [
              "array([[ 0,  0,  0, ...,  0,  0,  0],\n",
              "       [ 2,  0,  7, ...,  0,  0,  0],\n",
              "       [ 0,  0,  0, ...,  0,  0,  0],\n",
              "       ...,\n",
              "       [ 0,  0,  6, ...,  0,  0,  0],\n",
              "       [ 0,  0, 35, ...,  0,  0,  0],\n",
              "       [ 0,  0,  3, ...,  0,  0,  0]])"
            ]
          },
          "metadata": {
            "tags": []
          },
          "execution_count": 23
        }
      ]
    },
    {
      "cell_type": "code",
      "metadata": {
        "id": "26WA8KTXao9X",
        "colab_type": "code",
        "colab": {}
      },
      "source": [
        "user_aisle = user_aisle.reset_index()\n",
        "surprise_user_aisle_data = Dataset.load_from_df(user_aisle, reader)"
      ],
      "execution_count": 0,
      "outputs": []
    },
    {
      "cell_type": "code",
      "metadata": {
        "id": "yFNoHPwgkLRL",
        "colab_type": "code",
        "outputId": "229cdef0-fe55-4e1e-ecc4-8d486f7ee9ea",
        "colab": {
          "base_uri": "https://localhost:8080/",
          "height": 168
        }
      },
      "source": [
        "%%time\n",
        "\n",
        "from surprise.model_selection import cross_validate\n",
        "\n",
        "algo = SVD()\n",
        "cross_validate(algo, surprise_user_aisle_data, measures=['RMSE', 'MAE'], cv=5, verbose=True)"
      ],
      "execution_count": 33,
      "outputs": [
        {
          "output_type": "stream",
          "text": [
            "Evaluating RMSE, MAE of algorithm SVD on 5 split(s).\n",
            "\n",
            "                  Fold 1  Fold 2  Fold 3  Fold 4  Fold 5  Mean    Std     \n",
            "RMSE (testset)    12.2337 12.2483 12.1960 12.1728 12.1093 12.1920 0.0493  \n",
            "MAE (testset)     5.1699  5.1764  5.1713  5.1745  5.1666  5.1717  0.0034  \n",
            "Fit time          286.16  288.27  289.85  292.32  295.43  290.40  3.22    \n",
            "Test time         18.16   18.00   18.58   18.68   20.68   18.82   0.96    \n",
            "CPU times: user 27min 13s, sys: 3.22 s, total: 27min 16s\n",
            "Wall time: 27min 16s\n"
          ],
          "name": "stdout"
        }
      ]
    },
    {
      "cell_type": "code",
      "metadata": {
        "id": "LWrTUguBx7JF",
        "colab_type": "code",
        "outputId": "9d2bea86-2fe8-4837-e7e2-76abb9ba0b34",
        "colab": {
          "base_uri": "https://localhost:8080/",
          "height": 50
        }
      },
      "source": [
        "from surprise.model_selection import train_test_split\n",
        "\n",
        "trainset, testset = train_test_split(surprise_data, test_size=.25)\n",
        "\n",
        "algo = SVD()\n",
        "\n",
        "# Train the algorithm on the trainset, and predict ratings for the testset\n",
        "algo.fit(trainset)\n",
        "predictions = algo.test(testset)\n",
        "\n",
        "# Then compute RMSE\n",
        "accuracy.rmse(predictions)"
      ],
      "execution_count": 0,
      "outputs": [
        {
          "output_type": "stream",
          "text": [
            "RMSE: 12.1579\n"
          ],
          "name": "stdout"
        },
        {
          "output_type": "execute_result",
          "data": {
            "text/plain": [
              "12.157881121039713"
            ]
          },
          "metadata": {
            "tags": []
          },
          "execution_count": 43
        }
      ]
    },
    {
      "cell_type": "code",
      "metadata": {
        "id": "YJNrzqJzy-qT",
        "colab_type": "code",
        "outputId": "2ac59f03-1f95-4cb6-fc4d-b9feabb4cbfc",
        "colab": {
          "base_uri": "https://localhost:8080/",
          "height": 50
        }
      },
      "source": [
        "from surprise.model_selection import GridSearchCV\n",
        "\n",
        "param_grid = {'n_epochs': [5, 10], 'lr_all': [0.002, 0.005],\n",
        "              'reg_all': [0.4, 0.6]}\n",
        "gs = GridSearchCV(SVD, param_grid, measures=['rmse', 'mae'], cv=3)\n",
        "\n",
        "gs.fit(surprise_data)\n",
        "7\n",
        "# best RMSE score\n",
        "print(gs.best_score['rmse'])\n",
        "\n",
        "# combination of parameters that gave the best RMSE score\n",
        "print(gs.best_params['rmse'])"
      ],
      "execution_count": 0,
      "outputs": [
        {
          "output_type": "stream",
          "text": [
            "12.192035659486308\n",
            "{'n_epochs': 5, 'lr_all': 0.002, 'reg_all': 0.4}\n"
          ],
          "name": "stdout"
        }
      ]
    },
    {
      "cell_type": "code",
      "metadata": {
        "id": "oCIriq7odJ1-",
        "colab_type": "code",
        "colab": {}
      },
      "source": [
        "%%time\n",
        "\n",
        "# User product embeddings\n",
        "\n",
        "user_product = data.groupby(['user_id', 'product_id']).agg({'product_id': 'count'}).rename(columns={'product_id': 'total_products'})\n",
        "np_array_user_product = user_product.unstack('product_id').values\n",
        "np_array_user_product = np.nan_to_num(np_array_user_product).astype(int)"
      ],
      "execution_count": 0,
      "outputs": []
    },
    {
      "cell_type": "code",
      "metadata": {
        "id": "lslF7871eceV",
        "colab_type": "code",
        "colab": {}
      },
      "source": [
        "np_array_user_product"
      ],
      "execution_count": 0,
      "outputs": []
    },
    {
      "cell_type": "code",
      "metadata": {
        "id": "L1N1U1O1ed4F",
        "colab_type": "code",
        "colab": {}
      },
      "source": [
        "# Observations: If I remove total products > 500, RMSE score increases from 17 to 34!\n"
      ],
      "execution_count": 0,
      "outputs": []
    }
  ]
}